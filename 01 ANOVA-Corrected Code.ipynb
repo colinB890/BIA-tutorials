{
 "cells": [
  {
   "cell_type": "markdown",
   "metadata": {},
   "source": [
    "### Back to the F-statistic\n",
    "\n",
    "F-statistic is the ratio of the between-group variability to the within-group variability. $ F={\\frac {\\text{between-group variability}}{\\text{within-group variability}}}$\n",
    "\n",
    "We can also write it this way: F = (SSB / df_between ) / (SSE / df_within)   \n",
    "\n",
    "We will use built in functions to return the p-value and F-critical value, using the variables we created earlier.\n",
    "\n",
    ">`F = ( SSB / df_b ) / ( SSW /  df_w )` \n",
    "\n",
    "_To compare to the significance level, F-statistic converted to p-value_\n",
    ">`p_value = stats.f.sf( F, df_b, df_w )`  \n",
    "\n",
    "_F-critical is the inverse probability. 1 - 0.05 (statistical significance) = 0.95_\n",
    ">`F_crit = stats.f.ppf( 0.95, df_b, df_w )`  \n",
    "\n",
    "Display the results.\n",
    ">`print('F:', F)`  \n",
    ">`print('p-value:', p_value)` \n",
    ">`print('F-crit:', F_crit)`  "
   ]
  },
  {
   "cell_type": "code",
   "execution_count": null,
   "metadata": {},
   "outputs": [],
   "source": [
    "# type the code to calculate and \n",
    "# display the values for F, p-value and F-critical\n",
    "\n"
   ]
  },
  {
   "attachments": {
    "image.png": {
     "image/png": "[encoded data removed]"
    }
   },
   "cell_type": "markdown",
   "metadata": {},
   "source": [
    "Finally, we will display the results in a table.\n",
    ">![image.png](attachment:image.png)"
   ]
  },
  {
   "cell_type": "code",
   "execution_count": null,
   "metadata": {},
   "outputs": [],
   "source": [
    "# type the code to display the results\n"
   ]
  },
  {
   "cell_type": "markdown",
   "metadata": {},
   "source": [
    "--- \n",
    "### Interpreting the results\n",
    "#### Mean Squares\n",
    "Recall that the null hypothesis is that all means are equal. \n",
    "If the null hypothesis is true then we would expect the Mean Squares Between to be about the same as the Mean Squares Within, which can be shown as $ F={\\frac {\\text{MSB}}{\\text{MSW}}} \\sim 1 $\n",
    "\n",
    "If the alternate hypothesis is true (at least one mean differs) then $ F={\\frac {\\text{MSB}}{\\text{MSW}}} > 1 $\n",
    "\n",
    "In our example, the F-ratio value is 15.1962 is greater than 1. We reject the null hypothesis.\n",
    "\n",
    "-----\n",
    "#### F-critical\n",
    "The F-critical value represents how likely the F-statistic is if there is no difference in the means (if the null hypothesis is true). F-critical is inverse cumulative probability - the shaded area in the tail of the probability distribution. In order for the null hypothesis to be true, F-statistic must be less than the F-critical value. If the F-statistic is greater than the F-critical value then the null hypothesis is rejected and one can conclude that not all means are equal.\n",
    "\n",
    "In our example:\n",
    " - F-critical = 3.44336\n",
    " - F-statistic = 15.1962\n",
    "\n",
    "The F-statistic is not less than F-critical. We reject the null hypothesis.\n",
    "\n",
    "-----\n",
    "#### P-value\n",
    "P-value explains the probability of getting the F-statistic value (or an even larger value). In order for the null hypothesis to be true, p-value must be greater than the significance level. If the p-value is less than or equal to the significance level then the null hypothesis is rejected and one can conclude that not all means are equal. \n",
    "\n",
    "In our example, the p-value is 7.15636e-05. At first glance, it might might look like it is larger than 0.05, but the number is displayed in exponential notation (that's the _e_ ), which represents 7.15636 x 10 to the power of -5. The number is 0.0000715636 or 0.00715636% so the probability is less than 0.05 or 5%.\n",
    "\n",
    "The p-value is greater than the significance level. We reject the null hypothesis.\n",
    "\n"
   ]
  },
  {
   "cell_type": "code",
   "execution_count": null,
   "metadata": {},
   "outputs": [],
   "source": [
    "# add a comment to indicate how we determine if we reject or accept the null hypothesis\n"
   ]
  },
  {
   "cell_type": "markdown",
   "metadata": {},
   "source": [
    "You have completed the tutorial. Download this completed notebook and upload to the Teams Assignment to mark it as complete. \n",
    "#### File > Download as > Notebook (.ipynb)"
   ]
  },
  {
   "cell_type": "code",
   "execution_count": null,
   "metadata": {},
   "outputs": [],
   "source": []
  }
 ],
 "metadata": {
  "kernelspec": {
   "display_name": "Python 3",
   "language": "python",
   "name": "python3"
  },
  "language_info": {
   "codemirror_mode": {
    "name": "ipython",
    "version": 3
   },
   "file_extension": ".py",
   "mimetype": "text/x-python",
   "name": "python",
   "nbconvert_exporter": "python",
   "pygments_lexer": "ipython3",
   "version": "3.7.4"
  }
 },
 "nbformat": 4,
 "nbformat_minor": 2
}
